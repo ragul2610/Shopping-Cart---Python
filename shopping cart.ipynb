{
 "cells": [
  {
   "cell_type": "markdown",
   "id": "9a8a1bd3",
   "metadata": {},
   "source": [
    "# Shopping Cart Program"
   ]
  },
  {
   "cell_type": "code",
   "execution_count": 1,
   "id": "927aa7b6",
   "metadata": {},
   "outputs": [
    {
     "name": "stdout",
     "output_type": "stream",
     "text": [
      "Available Items:\n",
      "S.No   Item                Quantity    Cost/Item\n",
      "1      Biscuits             5           $2.50\n",
      "2      Cereals              10          $3.50\n",
      "3      Chicken              20          $13.30\n",
      "4      Oats                 20          $3.90\n",
      "5      Rice                 30          $4.50\n",
      "How many packets of Biscuits are required? 3\n",
      "How many packets of Cereals are required? 7\n",
      "How many packets of Chicken are required? 14\n",
      "How many packets of Oats are required? 18\n",
      "How many packets of Rice are required? 20\n",
      "\n",
      "Fill in your delivery details:\n",
      "Enter your name: Ragul\n",
      "Enter your address: 1.ram nager,kondor,cuddalore\n",
      "Enter the distance from the store (in miles): 14\n",
      "\n",
      "Final Bill:\n",
      "Item           Quantity   Cost\n",
      "Biscuits        3          $7.50\n",
      "Cereals         7          $24.50\n",
      "Chicken         14         $186.20\n",
      "Oats            18         $70.20\n",
      "Rice            20         $90.00\n",
      "Delivery Charge: $14.00\n",
      "Total Cost: $392.40\n",
      "\n",
      "Do you want to continue shopping? (Yes/No): no\n",
      "Thank you for shopping with us!\n"
     ]
    }
   ],
   "source": [
    "class ShoppingCart:\n",
    "    def __init__(self):\n",
    "        self.items = {\n",
    "            \"Biscuits\": {\"quantity\": 5, \"cost\": 2.50},\n",
    "            \"Cereals\": {\"quantity\": 10, \"cost\": 3.50},\n",
    "            \"Chicken\": {\"quantity\": 20, \"cost\": 13.30},\n",
    "            \"Oats\": {\"quantity\": 20, \"cost\": 3.90},\n",
    "            \"Rice\": {\"quantity\": 30, \"cost\": 4.50}\n",
    "        }\n",
    "        self.distance_rates = {\n",
    "            5: 10,\n",
    "            10: 12,\n",
    "            15: 14,\n",
    "        }\n",
    "\n",
    "    def display_items(self):\n",
    "        print(\"Available Items:\")\n",
    "        print(\"S.No   Item                Quantity    Cost/Item\")\n",
    "        for i, (item, details) in enumerate(self.items.items(), start=1):\n",
    "            print(f\"{i: <6} {item: <20} {details['quantity']: <11} ${details['cost']:.2f}\")\n",
    "\n",
    "    def calculate_delivery_charge(self, distance):\n",
    "        for limit, rate in self.distance_rates.items():\n",
    "            if distance <= limit:\n",
    "                return rate\n",
    "        return 20\n",
    "\n",
    "    def start(self):\n",
    "        while True:\n",
    "            self.display_items()\n",
    "\n",
    "            cart = {}\n",
    "            total_cost = 0.0\n",
    "\n",
    "            for item, details in self.items.items():\n",
    "                quantity = int(input(f\"How many packets of {item} are required? \"))\n",
    "                if quantity > details['quantity']:\n",
    "                    print(f\"Sorry, only {details['quantity']} packets of {item} available.\")\n",
    "                else:\n",
    "                    cart[item] = quantity\n",
    "                    total_cost += quantity * details['cost']\n",
    "                    self.items[item]['quantity'] -= quantity\n",
    "\n",
    "            print(\"\\nFill in your delivery details:\")\n",
    "            name = input(\"Enter your name: \")\n",
    "            delivery_address = input(\"Enter your address: \")\n",
    "            distance = float(input(\"Enter the distance from the store (in miles): \"))\n",
    "            delivery_charge = self.calculate_delivery_charge(distance)\n",
    "\n",
    "            print(\"\\nFinal Bill:\")\n",
    "            print(\"Item           Quantity   Cost\")\n",
    "            for item, quantity in cart.items():\n",
    "                print(f\"{item: <15} {quantity: <10} ${self.items[item]['cost'] * quantity:.2f}\")\n",
    "\n",
    "            print(f\"Delivery Charge: ${delivery_charge:.2f}\")\n",
    "            print(f\"Total Cost: ${total_cost + delivery_charge:.2f}\")\n",
    "\n",
    "            continue_shopping = input(\"\\nDo you want to continue shopping? (Yes/No): \")\n",
    "            if continue_shopping.lower() != \"yes\":\n",
    "                print(\"Thank you for shopping with us!\")\n",
    "                break\n",
    "\n",
    "\n",
    "if __name__ == \"__main__\":\n",
    "    shopping_cart = ShoppingCart()\n",
    "    shopping_cart.start()"
   ]
  },
  {
   "cell_type": "markdown",
   "id": "42601c97",
   "metadata": {},
   "source": [
    "Conclusion - Created a shopping cart program with items to purchase and added delivery charges according to the distance."
   ]
  }
 ],
 "metadata": {
  "kernelspec": {
   "display_name": "Python 3 (ipykernel)",
   "language": "python",
   "name": "python3"
  },
  "language_info": {
   "codemirror_mode": {
    "name": "ipython",
    "version": 3
   },
   "file_extension": ".py",
   "mimetype": "text/x-python",
   "name": "python",
   "nbconvert_exporter": "python",
   "pygments_lexer": "ipython3",
   "version": "3.11.3"
  }
 },
 "nbformat": 4,
 "nbformat_minor": 5
}
